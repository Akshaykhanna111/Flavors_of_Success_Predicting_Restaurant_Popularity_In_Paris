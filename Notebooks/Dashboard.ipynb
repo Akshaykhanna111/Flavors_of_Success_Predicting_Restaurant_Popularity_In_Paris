{
 "cells": [
  {
   "cell_type": "code",
   "execution_count": 8,
   "metadata": {},
   "outputs": [
    {
     "name": "stdout",
     "output_type": "stream",
     "text": [
      "            Restaurant_ID Restaurant_Name  Review_Count  Restaurant_Rating  \\\n",
      "0  WHHt_Jb8Tgidn9mW7oDnIg  La Coïncidence           509                4.5   \n",
      "1  9Dg5IhmhqeQhriJfMeNZ3g     Le Poincaré           154                4.0   \n",
      "2  -Df0MVdm7yOvsVX8IfB20Q        Sgabetti            40                4.5   \n",
      "3  Xip_9jPAlsSd1AY5FW-TAw       Hiramatsu            32                4.5   \n",
      "4  AOdAHOD8oghNdf1i7WpWzA             Bon           120                4.0   \n",
      "\n",
      "   Distance_Bike_Station  Restaurant_Latitude  Restaurant_Longitude  \\\n",
      "0             674.583885            48.868105              2.284365   \n",
      "1             796.383746            48.865057              2.286521   \n",
      "2             581.102661            48.865831              2.283666   \n",
      "3             867.996120            48.865070              2.287510   \n",
      "4             646.787634            48.860180              2.274980   \n",
      "\n",
      "   Restaurant_Zip_code   Latitude  Longitude  ... supermarket synagogue  \\\n",
      "0                75116  48.865983   2.275725  ...           0         0   \n",
      "1                75116  48.865983   2.275725  ...           0         0   \n",
      "2                75016  48.865983   2.275725  ...           0         0   \n",
      "3                75016  48.865983   2.275725  ...           0         0   \n",
      "4                75116  48.865983   2.275725  ...           0         0   \n",
      "\n",
      "  taxi_stand travel_agency veterinary_care zoo  Total_POI  \\\n",
      "0          0             0               0   0         25   \n",
      "1          0             0               0   0         25   \n",
      "2          0             0               0   0         25   \n",
      "3          0             0               0   0         25   \n",
      "4          0             0               0   0         25   \n",
      "\n",
      "   Total_Available_Bike_Slots  Total_POI_No_Lodges  Popular_Restaurant  \n",
      "0                          35                    8                   1  \n",
      "1                          35                    8                   0  \n",
      "2                          35                    8                   1  \n",
      "3                          35                    8                   1  \n",
      "4                          35                    8                   0  \n",
      "\n",
      "[5 rows x 114 columns]\n",
      "   Restaurant_Latitude  Restaurant_Longitude  Restaurant_Zip_code POI_Type  \\\n",
      "0            48.868105              2.284365                75116  lodging   \n",
      "1            48.865057              2.286521                75116  lodging   \n",
      "2            48.865831              2.283666                75016  lodging   \n",
      "3            48.865070              2.287510                75016  lodging   \n",
      "4            48.860180              2.274980                75116  lodging   \n",
      "\n",
      "   Count  \n",
      "0     17  \n",
      "1     17  \n",
      "2     17  \n",
      "3     17  \n",
      "4     17  \n"
     ]
    }
   ],
   "source": [
    "import pandas as pd\n",
    "\n",
    "# Relative path from the Notebooks directory to the Data directory\n",
    "project_dataset_path = '../Data/Project_Dataset_dashboard.csv'\n",
    "lat_long_path = '../Data/Lat_Long_Transpose.csv'\n",
    "\n",
    "# Load the datasets\n",
    "project_dataset_df = pd.read_csv(project_dataset_path)\n",
    "lat_long_df = pd.read_csv(lat_long_path)\n",
    "\n",
    "# Display the first few rows of each dataset to understand their structure\n",
    "print(project_dataset_df.head())\n",
    "print(lat_long_df.head())\n"
   ]
  },
  {
   "cell_type": "code",
   "execution_count": 2,
   "metadata": {},
   "outputs": [
    {
     "data": {
      "text/html": [
       "\n",
       "        <iframe\n",
       "            width=\"100%\"\n",
       "            height=\"650\"\n",
       "            src=\"http://127.0.0.1:54112/\"\n",
       "            frameborder=\"0\"\n",
       "            allowfullscreen\n",
       "            \n",
       "        ></iframe>\n",
       "        "
      ],
      "text/plain": [
       "<IPython.lib.display.IFrame at 0x26984fc1b50>"
      ]
     },
     "metadata": {},
     "output_type": "display_data"
    }
   ],
   "source": [
    "import dash\n",
    "from dash import dcc, html\n",
    "from dash.dependencies import Input, Output\n",
    "import plotly.express as px\n",
    "import pandas as pd\n",
    "\n",
    "# Adjusted path to the dataset\n",
    "project_dataset_path = '../Data/Project_Dataset_dashboard.csv'\n",
    "\n",
    "# Load your dataset\n",
    "project_dataset_df = pd.read_csv(project_dataset_path)\n",
    "\n",
    "# Initialize the Dash app\n",
    "app = dash.Dash(__name__)\n",
    "\n",
    "# Define the layout of the app\n",
    "app.layout = html.Div([\n",
    "    html.H1(\"Restaurant Popularity Dashboard\"),\n",
    "    \n",
    "    # Dropdown for selecting a cuisine category\n",
    "    dcc.Dropdown(\n",
    "        id='cuisine-dropdown',\n",
    "        options=[{'label': i, 'value': i} for i in project_dataset_df['Cuisine_Category_1'].unique()],\n",
    "        value=project_dataset_df['Cuisine_Category_1'].iloc[0]\n",
    "    ),\n",
    "    \n",
    "    # Graph for displaying the selected data\n",
    "    dcc.Graph(id='cuisine-graph'),\n",
    "\n",
    "    # Another plot example - replace 'x' and 'y' with appropriate column names\n",
    "    dcc.Graph(\n",
    "        figure=px.scatter(project_dataset_df, x='Review_Count', y='Restaurant_Rating', title='Review Count vs Restaurant Rating')\n",
    "    )\n",
    "])\n",
    "\n",
    "# Callback for updating the graph based on the dropdown selection\n",
    "@app.callback(\n",
    "    Output('cuisine-graph', 'figure'),\n",
    "    [Input('cuisine-dropdown', 'value')]\n",
    ")\n",
    "def update_graph(selected_cuisine):\n",
    "    filtered_df = project_dataset_df[project_dataset_df['Cuisine_Category_1'] == selected_cuisine]\n",
    "    fig = px.bar(filtered_df, x='Restaurant_Name', y='Review_Count', title=f'Review Count for {selected_cuisine} Cuisine')\n",
    "    return fig\n",
    "\n",
    "# Run the app\n",
    "if __name__ == '__main__':\n",
    "    app.run_server(debug=True)\n"
   ]
  }
 ],
 "metadata": {
  "kernelspec": {
   "display_name": "Python 3",
   "language": "python",
   "name": "python3"
  },
  "language_info": {
   "codemirror_mode": {
    "name": "ipython",
    "version": 3
   },
   "file_extension": ".py",
   "mimetype": "text/x-python",
   "name": "python",
   "nbconvert_exporter": "python",
   "pygments_lexer": "ipython3",
   "version": "3.12.1"
  }
 },
 "nbformat": 4,
 "nbformat_minor": 2
}
